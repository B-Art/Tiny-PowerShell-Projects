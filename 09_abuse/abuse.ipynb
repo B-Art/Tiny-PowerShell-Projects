{
 "cells": [
  {
   "cell_type": "markdown",
   "metadata": {},
   "source": [
    "# Shakespearean Insulter\n",
    "\n",
    "Write a Shakespearean insult generator\n"
   ]
  },
  {
   "cell_type": "code",
   "execution_count": 2,
   "metadata": {},
   "outputs": [
    {
     "name": "stdout",
     "output_type": "stream",
     "text": [
      "You loathsome, ruinous butt!\n",
      "You toad-spotted, rotten slave!\n",
      "You gross, cullionly degenerate!\n"
     ]
    }
   ],
   "source": [
    ".\\abuse.ps1"
   ]
  },
  {
   "cell_type": "markdown",
   "metadata": {},
   "source": [
    "The program can vary the `-n` or `--number` of insults"
   ]
  },
  {
   "cell_type": "code",
   "execution_count": 3,
   "metadata": {},
   "outputs": [
    {
     "name": "stdout",
     "output_type": "stream",
     "text": [
      "You heedless, toad-spotted jolthead!\n",
      "You vile wall-eyed, unmannered liar!\n"
     ]
    }
   ],
   "source": [
    ".\\abuse.ps1 -n 2"
   ]
  },
  {
   "cell_type": "markdown",
   "metadata": {},
   "source": [
    "Or the number of `--adjectives` (also `-a`)"
   ]
  },
  {
   "cell_type": "code",
   "execution_count": 4,
   "metadata": {},
   "outputs": [
    {
     "name": "stdout",
     "output_type": "stream",
     "text": [
      "You lubbery, insatiate, old, vile wall-eyed varlet!\n",
      "You filthsome, filthy, gross, thin-faced worm!\n",
      "You unmannered, indistinguishable, detestable, gross fiend!\n"
     ]
    }
   ],
   "source": [
    ".\\abuse.ps1 -a 4"
   ]
  },
  {
   "cell_type": "markdown",
   "metadata": {},
   "source": [
    "The program should accept a `-s` or `--seed` to set the random seed for reproducible results"
   ]
  },
  {
   "cell_type": "code",
   "execution_count": 6,
   "metadata": {},
   "outputs": [
    {
     "name": "stdout",
     "output_type": "stream",
     "text": [
      "You lecherous, scurilous maw!\n",
      "You thin-faced, caterwauling knave!\n",
      "You detestable, rotten braggart!\n"
     ]
    }
   ],
   "source": [
    ".\\abuse.ps1 -s 1"
   ]
  }
 ],
 "metadata": {
  "kernelspec": {
   "display_name": ".NET (PowerShell)",
   "language": "PowerShell",
   "name": ".net-powershell"
  },
  "language_info": {
   "file_extension": ".ps1",
   "mimetype": "text/x-powershell",
   "name": "PowerShell",
   "pygments_lexer": "powershell",
   "version": "7.0"
  }
 },
 "nbformat": 4,
 "nbformat_minor": 4
}
