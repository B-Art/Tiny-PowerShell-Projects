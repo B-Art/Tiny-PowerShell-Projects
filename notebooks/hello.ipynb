{
    "metadata": {
        "kernelspec": {
            "name": "powershell",
            "display_name": "PowerShell"
        },
        "language_info": {
            "name": "powershell",
            "codemirror_mode": "shell",
            "mimetype": "text/x-sh",
            "file_extension": ".ps1"
        }
    },
    "nbformat_minor": 2,
    "nbformat": 4,
    "cells": [
        {
            "cell_type": "code",
            "source": [
                ".\\hello.ps1"
            ],
            "metadata": {
                "azdata_cell_guid": "365bdb67-e451-4588-b553-89779e7bb356"
            },
            "outputs": [],
            "execution_count": null
        }
    ]
}