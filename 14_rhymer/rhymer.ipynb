{
 "cells": [
  {
   "cell_type": "markdown",
   "metadata": {},
   "source": [
    "# Rhymer\n",
    "\n",
    "Write a program that will create rhyming words for a given word by removing the initial consonant sounds and substituting other sounds.\n",
    "\n",
    "Note that the given word should not appear in the output, so \"cake\" will be omitted from this run\n"
   ]
  },
  {
   "cell_type": "code",
   "execution_count": null,
   "metadata": {},
   "outputs": [],
   "source": [
    "./rhymer.ps1 cake | Select-Object -First 10"
   ]
  },
  {
   "cell_type": "markdown",
   "metadata": {},
   "source": [
    "The output should be sorted alphabetically.\n",
    "\n",
    "If there is no initial consonant sound, then apply all the consonant sounds to the given word"
   ]
  },
  {
   "cell_type": "code",
   "execution_count": null,
   "metadata": {},
   "outputs": [],
   "source": [
    "./rhymer.ps1 apple | Select-Object -last 10"
   ]
  }
 ],
 "metadata": {
  "kernelspec": {
   "display_name": ".NET (PowerShell)",
   "language": "PowerShell",
   "name": ".net-powershell"
  },
  "language_info": {
   "file_extension": ".ps1",
   "mimetype": "text/x-powershell",
   "name": "PowerShell",
   "pygments_lexer": "powershell",
   "version": "7.0"
  }
 },
 "nbformat": 4,
 "nbformat_minor": 4
}
